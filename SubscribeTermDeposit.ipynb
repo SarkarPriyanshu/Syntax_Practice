{
 "cells": [
  {
   "cell_type": "code",
   "execution_count": 0,
   "metadata": {
    "application/vnd.databricks.v1+cell": {
     "cellMetadata": {
      "byteLimit": 2048000,
      "rowLimit": 10000
     },
     "inputWidgets": {},
     "nuid": "c95fbf47-dfe1-4544-a991-ad09f7e0132e",
     "showTitle": false,
     "tableResultSettingsMap": {},
     "title": ""
    }
   },
   "outputs": [
    {
     "output_type": "stream",
     "name": "stdout",
     "output_type": "stream",
     "text": [
      "Collecting ucimlrepo\r\n  Downloading ucimlrepo-0.0.7-py3-none-any.whl (8.0 kB)\r\nRequirement already satisfied: pandas>=1.0.0 in /databricks/python3/lib/python3.9/site-packages (from ucimlrepo) (1.4.2)\r\nRequirement already satisfied: certifi>=2020.12.5 in /databricks/python3/lib/python3.9/site-packages (from ucimlrepo) (2021.10.8)\r\nRequirement already satisfied: python-dateutil>=2.8.1 in /databricks/python3/lib/python3.9/site-packages (from pandas>=1.0.0->ucimlrepo) (2.8.2)\r\nRequirement already satisfied: numpy>=1.18.5 in /databricks/python3/lib/python3.9/site-packages (from pandas>=1.0.0->ucimlrepo) (1.21.5)\r\nRequirement already satisfied: pytz>=2020.1 in /databricks/python3/lib/python3.9/site-packages (from pandas>=1.0.0->ucimlrepo) (2021.3)\r\nRequirement already satisfied: six>=1.5 in /databricks/python3/lib/python3.9/site-packages (from python-dateutil>=2.8.1->pandas>=1.0.0->ucimlrepo) (1.16.0)\r\nInstalling collected packages: ucimlrepo\r\nSuccessfully installed ucimlrepo-0.0.7\r\n\u001B[33mWARNING: You are using pip version 21.2.4; however, version 24.3.1 is available.\r\nYou should consider upgrading via the '/local_disk0/.ephemeral_nfs/envs/pythonEnv-63da7bcc-796c-4df1-80b4-4c24e966df28/bin/python -m pip install --upgrade pip' command.\u001B[0m\r\n"
     ]
    }
   ],
   "source": [
    "!pip install ucimlrepo"
   ]
  },
  {
   "cell_type": "code",
   "execution_count": 0,
   "metadata": {
    "application/vnd.databricks.v1+cell": {
     "cellMetadata": {
      "byteLimit": 2048000,
      "rowLimit": 10000
     },
     "inputWidgets": {},
     "nuid": "a9f77797-f014-46c5-8394-b398727d07ca",
     "showTitle": false,
     "tableResultSettingsMap": {},
     "title": ""
    }
   },
   "outputs": [],
   "source": [
    "from ucimlrepo import fetch_ucirepo \n",
    "  \n",
    "# fetch dataset \n",
    "bank_marketing = fetch_ucirepo(id=222) \n",
    "  \n",
    "# data (as pandas dataframes) \n",
    "X = bank_marketing.data.features \n",
    "y = bank_marketing.data.targets "
   ]
  },
  {
   "cell_type": "code",
   "execution_count": 0,
   "metadata": {
    "application/vnd.databricks.v1+cell": {
     "cellMetadata": {
      "byteLimit": 2048000,
      "rowLimit": 10000
     },
     "inputWidgets": {},
     "nuid": "dbf606f3-7595-40ad-b640-40dfe9a071d4",
     "showTitle": false,
     "tableResultSettingsMap": {},
     "title": ""
    }
   },
   "outputs": [],
   "source": [
    "from pyspark.sql import SparkSession\n",
    "import pyspark.sql.functions as F\n",
    "from pyspark.sql.types import IntegerType\n",
    "from pyspark.ml.feature import StringIndexer, OneHotEncoder, MinMaxScaler\n",
    "from pyspark.ml import Pipeline\n",
    "from pyspark.ml.feature import VectorAssembler\n",
    "from  pyspark.ml.classification import LogisticRegression\n",
    "from pyspark.ml.evaluation import BinaryClassificationEvaluator\n",
    "import pandas as pd"
   ]
  },
  {
   "cell_type": "code",
   "execution_count": 0,
   "metadata": {
    "application/vnd.databricks.v1+cell": {
     "cellMetadata": {
      "byteLimit": 2048000,
      "rowLimit": 10000
     },
     "inputWidgets": {},
     "nuid": "aec9270e-8823-4376-9700-d27cf3e323b3",
     "showTitle": false,
     "tableResultSettingsMap": {},
     "title": ""
    }
   },
   "outputs": [],
   "source": [
    "spark = SparkSession.Builder().appName('app').getOrCreate()"
   ]
  },
  {
   "cell_type": "code",
   "execution_count": 0,
   "metadata": {
    "application/vnd.databricks.v1+cell": {
     "cellMetadata": {
      "byteLimit": 2048000,
      "rowLimit": 10000
     },
     "inputWidgets": {},
     "nuid": "b3083539-4698-4865-8906-1b05cc85271b",
     "showTitle": false,
     "tableResultSettingsMap": {},
     "title": ""
    }
   },
   "outputs": [
    {
     "output_type": "stream",
     "name": "stdout",
     "output_type": "stream",
     "text": [
      "+---+------------+-------+---------+-------+-------+-------+----+-------+-----------+-----+--------+--------+-----+--------+--------+---+\n|age|         job|marital|education|default|balance|housing|loan|contact|day_of_week|month|duration|campaign|pdays|previous|poutcome|  y|\n+---+------------+-------+---------+-------+-------+-------+----+-------+-----------+-----+--------+--------+-----+--------+--------+---+\n| 58|  management|married| tertiary|     no|   2143|    yes|  no|   null|          5|  may|     261|       1|   -1|       0|    null| no|\n| 44|  technician| single|secondary|     no|     29|    yes|  no|   null|          5|  may|     151|       1|   -1|       0|    null| no|\n| 33|entrepreneur|married|secondary|     no|      2|    yes| yes|   null|          5|  may|      76|       1|   -1|       0|    null| no|\n| 47| blue-collar|married|     null|     no|   1506|    yes|  no|   null|          5|  may|      92|       1|   -1|       0|    null| no|\n| 33|        null| single|     null|     no|      1|     no|  no|   null|          5|  may|     198|       1|   -1|       0|    null| no|\n+---+------------+-------+---------+-------+-------+-------+----+-------+-----------+-----+--------+--------+-----+--------+--------+---+\nonly showing top 5 rows\n\n"
     ]
    }
   ],
   "source": [
    "data = pd.concat((X,y),axis=1)\n",
    "\n",
    "df = spark.createDataFrame(data)\n",
    "\n",
    "df.show(5)"
   ]
  },
  {
   "cell_type": "code",
   "execution_count": 0,
   "metadata": {
    "application/vnd.databricks.v1+cell": {
     "cellMetadata": {
      "byteLimit": 2048000,
      "rowLimit": 10000
     },
     "inputWidgets": {},
     "nuid": "8221bdf4-c0a2-4888-9eae-c6609de26055",
     "showTitle": false,
     "tableResultSettingsMap": {},
     "title": ""
    }
   },
   "outputs": [
    {
     "output_type": "stream",
     "name": "stdout",
     "output_type": "stream",
     "text": [
      "age 0.0\njob 0.6370131162770122\nmarital 0.0\neducation 4.1074074893278185\ndefault 0.0\nbalance 0.0\nhousing 0.0\nloan 0.0\ncontact 28.798301298356595\nday_of_week 0.0\nmonth 0.0\nduration 0.0\ncampaign 0.0\npdays 0.0\nprevious 0.0\npoutcome 81.74780473778506\ny 0.0\n"
     ]
    }
   ],
   "source": [
    "for feature in df.columns:\n",
    "    print(feature,df.where(df[feature].isNull()).count()/df.count() * 100)"
   ]
  },
  {
   "cell_type": "code",
   "execution_count": 0,
   "metadata": {
    "application/vnd.databricks.v1+cell": {
     "cellMetadata": {
      "byteLimit": 2048000,
      "rowLimit": 10000
     },
     "inputWidgets": {},
     "nuid": "50883859-9163-4c8a-8d8e-4cf89df90539",
     "showTitle": false,
     "tableResultSettingsMap": {},
     "title": ""
    }
   },
   "outputs": [],
   "source": [
    "feature_to_drop = ['contact','poutcome','month']\n",
    "df = df.drop(*feature_to_drop)"
   ]
  },
  {
   "cell_type": "code",
   "execution_count": 0,
   "metadata": {
    "application/vnd.databricks.v1+cell": {
     "cellMetadata": {
      "byteLimit": 2048000,
      "rowLimit": 10000
     },
     "inputWidgets": {},
     "nuid": "012b9a25-1436-45fb-be27-4d239c9c5ba5",
     "showTitle": false,
     "tableResultSettingsMap": {},
     "title": ""
    }
   },
   "outputs": [
    {
     "output_type": "stream",
     "name": "stdout",
     "output_type": "stream",
     "text": [
      "+---+------------+-------+---------+-------+-------+-------+----+-----------+-----+--------+--------+-----+--------+---+\n|age|         job|marital|education|default|balance|housing|loan|day_of_week|month|duration|campaign|pdays|previous|  y|\n+---+------------+-------+---------+-------+-------+-------+----+-----------+-----+--------+--------+-----+--------+---+\n| 58|  management|married| tertiary|     no|   2143|    yes|  no|          5|  may|     261|       1|   -1|       0| no|\n| 44|  technician| single|secondary|     no|     29|    yes|  no|          5|  may|     151|       1|   -1|       0| no|\n| 33|entrepreneur|married|secondary|     no|      2|    yes| yes|          5|  may|      76|       1|   -1|       0| no|\n| 47| blue-collar|married|     null|     no|   1506|    yes|  no|          5|  may|      92|       1|   -1|       0| no|\n| 33|        null| single|     null|     no|      1|     no|  no|          5|  may|     198|       1|   -1|       0| no|\n+---+------------+-------+---------+-------+-------+-------+----+-----------+-----+--------+--------+-----+--------+---+\nonly showing top 5 rows\n\n"
     ]
    }
   ],
   "source": [
    "df.show(5)"
   ]
  },
  {
   "cell_type": "code",
   "execution_count": 0,
   "metadata": {
    "application/vnd.databricks.v1+cell": {
     "cellMetadata": {
      "byteLimit": 2048000,
      "rowLimit": 10000
     },
     "inputWidgets": {},
     "nuid": "841c9fa1-e13e-461a-91f6-58e5b87bb230",
     "showTitle": false,
     "tableResultSettingsMap": {},
     "title": ""
    }
   },
   "outputs": [],
   "source": [
    "job_mode_value = df.groupBy('job').count().orderBy('count',ascending=False).first()[0]\n",
    "education_mode_value = df.groupBy('education').count().orderBy('count',ascending=False).first()[0]"
   ]
  },
  {
   "cell_type": "code",
   "execution_count": 0,
   "metadata": {
    "application/vnd.databricks.v1+cell": {
     "cellMetadata": {
      "byteLimit": 2048000,
      "rowLimit": 10000
     },
     "inputWidgets": {},
     "nuid": "788bc4e3-3a95-4da8-936c-7799e241d9f6",
     "showTitle": false,
     "tableResultSettingsMap": {},
     "title": ""
    }
   },
   "outputs": [],
   "source": [
    "df = df.fillna(job_mode_value, subset=['job'])\n",
    "df = df.fillna(education_mode_value, subset=['education'])"
   ]
  },
  {
   "cell_type": "code",
   "execution_count": 0,
   "metadata": {
    "application/vnd.databricks.v1+cell": {
     "cellMetadata": {
      "byteLimit": 2048000,
      "rowLimit": 10000
     },
     "inputWidgets": {},
     "nuid": "89f43a47-1ac5-4e91-bc23-cbfcd8c24d0c",
     "showTitle": false,
     "tableResultSettingsMap": {},
     "title": ""
    }
   },
   "outputs": [
    {
     "output_type": "stream",
     "name": "stdout",
     "output_type": "stream",
     "text": [
      "age 0.0\njob 0.0\nmarital 0.0\neducation 0.0\ndefault 0.0\nbalance 0.0\nhousing 0.0\nloan 0.0\nday_of_week 0.0\nmonth 0.0\nduration 0.0\ncampaign 0.0\npdays 0.0\nprevious 0.0\ny 0.0\n"
     ]
    }
   ],
   "source": [
    "for feature in df.columns:\n",
    "    print(feature,df.where(df[feature].isNull()).count()/df.count() * 100)"
   ]
  },
  {
   "cell_type": "code",
   "execution_count": 0,
   "metadata": {
    "application/vnd.databricks.v1+cell": {
     "cellMetadata": {
      "byteLimit": 2048000,
      "rowLimit": 10000
     },
     "inputWidgets": {},
     "nuid": "52322572-9bdb-47ad-b472-c7955412ba1a",
     "showTitle": false,
     "tableResultSettingsMap": {},
     "title": ""
    }
   },
   "outputs": [
    {
     "output_type": "stream",
     "name": "stdout",
     "output_type": "stream",
     "text": [
      "root\n |-- age: long (nullable = true)\n |-- job: string (nullable = false)\n |-- marital: string (nullable = true)\n |-- education: string (nullable = false)\n |-- default: string (nullable = true)\n |-- balance: long (nullable = true)\n |-- housing: string (nullable = true)\n |-- loan: string (nullable = true)\n |-- day_of_week: long (nullable = true)\n |-- month: string (nullable = true)\n |-- duration: long (nullable = true)\n |-- campaign: long (nullable = true)\n |-- pdays: long (nullable = true)\n |-- previous: long (nullable = true)\n |-- y: string (nullable = true)\n\n"
     ]
    }
   ],
   "source": [
    "df.printSchema()"
   ]
  },
  {
   "cell_type": "code",
   "execution_count": 0,
   "metadata": {
    "application/vnd.databricks.v1+cell": {
     "cellMetadata": {
      "byteLimit": 2048000,
      "rowLimit": 10000
     },
     "inputWidgets": {},
     "nuid": "6efa27e2-6fa3-4be9-aabc-23138c2bac72",
     "showTitle": false,
     "tableResultSettingsMap": {},
     "title": ""
    }
   },
   "outputs": [
    {
     "output_type": "stream",
     "name": "stdout",
     "output_type": "stream",
     "text": [
      "job\n+-------------+-----+\n|          job|count|\n+-------------+-----+\n|  blue-collar|10020|\n|   management| 9458|\n|   technician| 7597|\n|       admin.| 5171|\n|     services| 4154|\n|      retired| 2264|\n|self-employed| 1579|\n| entrepreneur| 1487|\n|   unemployed| 1303|\n|    housemaid| 1240|\n|      student|  938|\n+-------------+-----+\n\n\nmarital\n+--------+-----+\n| marital|count|\n+--------+-----+\n| married|27214|\n|  single|12790|\n|divorced| 5207|\n+--------+-----+\n\n\neducation\n+---------+-----+\n|education|count|\n+---------+-----+\n|secondary|25059|\n| tertiary|13301|\n|  primary| 6851|\n+---------+-----+\n\n\ndefault\n+-------+-----+\n|default|count|\n+-------+-----+\n|     no|44396|\n|    yes|  815|\n+-------+-----+\n\n\nhousing\n+-------+-----+\n|housing|count|\n+-------+-----+\n|    yes|25130|\n|     no|20081|\n+-------+-----+\n\n\nloan\n+----+-----+\n|loan|count|\n+----+-----+\n|  no|37967|\n| yes| 7244|\n+----+-----+\n\n\ny\n+---+-----+\n|  y|count|\n+---+-----+\n| no|39922|\n|yes| 5289|\n+---+-----+\n\n\n"
     ]
    }
   ],
   "source": [
    "categorical_features = list()\n",
    "for value in df.dtypes:\n",
    "    if value[1] == 'string':\n",
    "        categorical_features.append(value[0])\n",
    "        print(value[0])\n",
    "        df.groupBy(value[0]).count().orderBy('count',ascending=False).show()\n",
    "        print()"
   ]
  },
  {
   "cell_type": "code",
   "execution_count": 0,
   "metadata": {
    "application/vnd.databricks.v1+cell": {
     "cellMetadata": {
      "byteLimit": 2048000,
      "rowLimit": 10000
     },
     "inputWidgets": {},
     "nuid": "95f21170-8d2a-43d7-a894-082de824a724",
     "showTitle": false,
     "tableResultSettingsMap": {},
     "title": ""
    }
   },
   "outputs": [],
   "source": [
    "label_encoder = F.udf(lambda value: 1 if value == 'yes' else 0)\n",
    "features = ['default','housing','loan','y']\n",
    "\n",
    "for feature in features:\n",
    "    df = df.withColumn(f'{feature}_encoded',label_encoder(F.col(feature)))"
   ]
  },
  {
   "cell_type": "code",
   "execution_count": 0,
   "metadata": {
    "application/vnd.databricks.v1+cell": {
     "cellMetadata": {
      "byteLimit": 2048000,
      "rowLimit": 10000
     },
     "inputWidgets": {},
     "nuid": "e3c516a9-5131-4f4a-86aa-7bc4fc84bca9",
     "showTitle": false,
     "tableResultSettingsMap": {},
     "title": ""
    }
   },
   "outputs": [
    {
     "output_type": "stream",
     "name": "stdout",
     "output_type": "stream",
     "text": [
      "+---+------------+-------+---------+-------+-------+-------+----+-----------+--------+--------+-----+--------+---+---------------+---------------+------------+---------+\n|age|         job|marital|education|default|balance|housing|loan|day_of_week|duration|campaign|pdays|previous|  y|default_encoded|housing_encoded|loan_encoded|y_encoded|\n+---+------------+-------+---------+-------+-------+-------+----+-----------+--------+--------+-----+--------+---+---------------+---------------+------------+---------+\n| 58|  management|married| tertiary|     no|   2143|    yes|  no|          5|     261|       1|   -1|       0| no|              0|              1|           0|        0|\n| 44|  technician| single|secondary|     no|     29|    yes|  no|          5|     151|       1|   -1|       0| no|              0|              1|           0|        0|\n| 33|entrepreneur|married|secondary|     no|      2|    yes| yes|          5|      76|       1|   -1|       0| no|              0|              1|           1|        0|\n| 47| blue-collar|married|secondary|     no|   1506|    yes|  no|          5|      92|       1|   -1|       0| no|              0|              1|           0|        0|\n| 33| blue-collar| single|secondary|     no|      1|     no|  no|          5|     198|       1|   -1|       0| no|              0|              0|           0|        0|\n+---+------------+-------+---------+-------+-------+-------+----+-----------+--------+--------+-----+--------+---+---------------+---------------+------------+---------+\nonly showing top 5 rows\n\n"
     ]
    }
   ],
   "source": [
    "df.show(5)"
   ]
  },
  {
   "cell_type": "code",
   "execution_count": 0,
   "metadata": {
    "application/vnd.databricks.v1+cell": {
     "cellMetadata": {
      "byteLimit": 2048000,
      "rowLimit": 10000
     },
     "inputWidgets": {},
     "nuid": "e42e1e1b-e140-4606-abce-6728016b3a9a",
     "showTitle": false,
     "tableResultSettingsMap": {},
     "title": ""
    }
   },
   "outputs": [],
   "source": [
    "df = df.withColumn('y', F.col('y_encoded').cast(IntegerType()))\\\n",
    "  .withColumn('loan', F.col('loan_encoded').cast(IntegerType()))\\\n",
    "  .withColumn('housing', F.col('housing_encoded').cast(IntegerType()))\\\n",
    "  .withColumn('default', F.col('default_encoded').cast(IntegerType()))"
   ]
  },
  {
   "cell_type": "code",
   "execution_count": 0,
   "metadata": {
    "application/vnd.databricks.v1+cell": {
     "cellMetadata": {
      "byteLimit": 2048000,
      "rowLimit": 10000
     },
     "inputWidgets": {},
     "nuid": "84a9a7ad-2132-4584-86df-1c9ba3c6f228",
     "showTitle": false,
     "tableResultSettingsMap": {},
     "title": ""
    }
   },
   "outputs": [],
   "source": [
    "df = df.drop(*['y_encoded','loan_encoded','housing_encoded','default_encoded'])"
   ]
  },
  {
   "cell_type": "code",
   "execution_count": 0,
   "metadata": {
    "application/vnd.databricks.v1+cell": {
     "cellMetadata": {
      "byteLimit": 2048000,
      "rowLimit": 10000
     },
     "inputWidgets": {},
     "nuid": "e41c6950-caa8-4824-8290-c9961948f0bf",
     "showTitle": false,
     "tableResultSettingsMap": {},
     "title": ""
    }
   },
   "outputs": [
    {
     "output_type": "stream",
     "name": "stdout",
     "output_type": "stream",
     "text": [
      "root\n |-- age: long (nullable = true)\n |-- job: string (nullable = false)\n |-- marital: string (nullable = true)\n |-- education: string (nullable = false)\n |-- default: integer (nullable = true)\n |-- balance: long (nullable = true)\n |-- housing: integer (nullable = true)\n |-- loan: integer (nullable = true)\n |-- day_of_week: long (nullable = true)\n |-- duration: long (nullable = true)\n |-- campaign: long (nullable = true)\n |-- pdays: long (nullable = true)\n |-- previous: long (nullable = true)\n |-- y: integer (nullable = true)\n\n"
     ]
    }
   ],
   "source": [
    "df.printSchema()"
   ]
  },
  {
   "cell_type": "code",
   "execution_count": 0,
   "metadata": {
    "application/vnd.databricks.v1+cell": {
     "cellMetadata": {
      "byteLimit": 2048000,
      "rowLimit": 10000
     },
     "inputWidgets": {},
     "nuid": "435cc2d7-fd50-48d0-94f0-339ba43fbbf7",
     "showTitle": false,
     "tableResultSettingsMap": {},
     "title": ""
    }
   },
   "outputs": [
    {
     "output_type": "stream",
     "name": "stdout",
     "output_type": "stream",
     "text": [
      "+---+------------+-------+---------+-------+-------+-------+----+-----------+--------+--------+-----+--------+---+\n|age|         job|marital|education|default|balance|housing|loan|day_of_week|duration|campaign|pdays|previous|  y|\n+---+------------+-------+---------+-------+-------+-------+----+-----------+--------+--------+-----+--------+---+\n| 58|  management|married| tertiary|      0|   2143|      1|   0|          5|     261|       1|   -1|       0|  0|\n| 44|  technician| single|secondary|      0|     29|      1|   0|          5|     151|       1|   -1|       0|  0|\n| 33|entrepreneur|married|secondary|      0|      2|      1|   1|          5|      76|       1|   -1|       0|  0|\n| 47| blue-collar|married|secondary|      0|   1506|      1|   0|          5|      92|       1|   -1|       0|  0|\n| 33| blue-collar| single|secondary|      0|      1|      0|   0|          5|     198|       1|   -1|       0|  0|\n+---+------------+-------+---------+-------+-------+-------+----+-----------+--------+--------+-----+--------+---+\nonly showing top 5 rows\n\n"
     ]
    }
   ],
   "source": [
    "df.show(5)"
   ]
  },
  {
   "cell_type": "code",
   "execution_count": 0,
   "metadata": {
    "application/vnd.databricks.v1+cell": {
     "cellMetadata": {
      "byteLimit": 2048000,
      "rowLimit": 10000
     },
     "inputWidgets": {},
     "nuid": "17b63cbe-e064-4f6a-913d-8eac4a513aec",
     "showTitle": false,
     "tableResultSettingsMap": {},
     "title": ""
    }
   },
   "outputs": [],
   "source": [
    "job_string_indexer = StringIndexer(inputCol='job',outputCol='job_labeled')\n",
    "marital_string_indexer = StringIndexer(inputCol='marital',outputCol='marital_labeled')\n",
    "education_string_indexer = StringIndexer(inputCol='education',outputCol='education_labeled')\n",
    "\n",
    "job_ohe_indexer = OneHotEncoder(inputCol='job_labeled',outputCol='job_vec')\n",
    "marital_ohe_indexer = OneHotEncoder(inputCol='marital_labeled',outputCol='marital_vec')\n",
    "education_ohe_indexer = OneHotEncoder(inputCol='education_labeled',outputCol='education_vec')"
   ]
  },
  {
   "cell_type": "code",
   "execution_count": 0,
   "metadata": {
    "application/vnd.databricks.v1+cell": {
     "cellMetadata": {
      "byteLimit": 2048000,
      "rowLimit": 10000
     },
     "inputWidgets": {},
     "nuid": "672213b7-640c-499a-8f44-079ada9979b2",
     "showTitle": false,
     "tableResultSettingsMap": {},
     "title": ""
    }
   },
   "outputs": [],
   "source": [
    "train,test = df.randomSplit([0.7,0.3])"
   ]
  },
  {
   "cell_type": "code",
   "execution_count": 0,
   "metadata": {
    "application/vnd.databricks.v1+cell": {
     "cellMetadata": {
      "byteLimit": 2048000,
      "rowLimit": 10000
     },
     "inputWidgets": {},
     "nuid": "4a039038-2f9c-44f0-9aa8-c65c4d33b276",
     "showTitle": false,
     "tableResultSettingsMap": {},
     "title": ""
    }
   },
   "outputs": [],
   "source": [
    "assembler = VectorAssembler(inputCols=['age','job_vec','marital_vec','education_vec','default','balance','housing',\n",
    " 'loan','day_of_week','duration','campaign','pdays','previous','y'],outputCol='features')\n",
    "\n",
    "min_max_scaler = MinMaxScaler(inputCol='features',outputCol='scaled_features')\n",
    "\n",
    "lr_reg = LogisticRegression(featuresCol='scaled_features',labelCol='y')\n",
    "\n",
    "lr_reg_pipe = Pipeline(stages=[\n",
    "    job_string_indexer,\n",
    "    job_ohe_indexer,\n",
    "    marital_string_indexer,\n",
    "    marital_ohe_indexer,\n",
    "    education_string_indexer,\n",
    "    education_ohe_indexer,\n",
    "    assembler,\n",
    "    min_max_scaler,\n",
    "    lr_reg\n",
    "])\n",
    "\n",
    "lr_reg_pipe = lr_reg_pipe.fit(train)\n",
    "test_pred = lr_reg_pipe.transform(test)"
   ]
  },
  {
   "cell_type": "code",
   "execution_count": 0,
   "metadata": {
    "application/vnd.databricks.v1+cell": {
     "cellMetadata": {
      "byteLimit": 2048000,
      "rowLimit": 10000
     },
     "inputWidgets": {},
     "nuid": "fba8a440-8a71-4e9f-a524-d3a662aaf4cf",
     "showTitle": false,
     "tableResultSettingsMap": {},
     "title": ""
    }
   },
   "outputs": [
    {
     "output_type": "stream",
     "name": "stdout",
     "output_type": "stream",
     "text": [
      "+---+--------------------+--------------------+----------+\n|  y|       rawPrediction|         probability|prediction|\n+---+--------------------+--------------------+----------+\n|  0|[19.0327466509890...|[0.99999999457770...|       0.0|\n|  0|[19.2635535579115...|[0.99999999569527...|       0.0|\n|  0|[19.3606606037575...|[0.99999999609364...|       0.0|\n|  0|[19.8539024189177...|[0.99999999761460...|       0.0|\n|  0|[19.6660646295139...|[0.99999999712169...|       0.0|\n+---+--------------------+--------------------+----------+\nonly showing top 5 rows\n\n"
     ]
    }
   ],
   "source": [
    "test_pred.select(['y','rawPrediction','probability','prediction']).show(5)"
   ]
  },
  {
   "cell_type": "code",
   "execution_count": 0,
   "metadata": {
    "application/vnd.databricks.v1+cell": {
     "cellMetadata": {
      "byteLimit": 2048000,
      "rowLimit": 10000
     },
     "inputWidgets": {},
     "nuid": "a93a9e52-72ab-48ec-8394-de2ea2a92cb5",
     "showTitle": false,
     "tableResultSettingsMap": {},
     "title": ""
    }
   },
   "outputs": [],
   "source": [
    "f1_eval = BinaryClassificationEvaluator(rawPredictionCol='rawPrediction',labelCol='y',metricName='f1')\n",
    "roc_eval = BinaryClassificationEvaluator(rawPredictionCol='rawPrediction',labelCol='y',metricName='areaUnderROC')"
   ]
  },
  {
   "cell_type": "code",
   "execution_count": 0,
   "metadata": {
    "application/vnd.databricks.v1+cell": {
     "cellMetadata": {
      "byteLimit": 2048000,
      "rowLimit": 10000
     },
     "inputWidgets": {},
     "nuid": "9df749d8-d6b0-4a1b-9dcf-83fade5a1c73",
     "showTitle": false,
     "tableResultSettingsMap": {},
     "title": ""
    }
   },
   "outputs": [
    {
     "output_type": "stream",
     "name": "stdout",
     "output_type": "stream",
     "text": [
      "Roc-auc : 0.9999988820984353\n"
     ]
    }
   ],
   "source": [
    "eval_data = test_pred.select(['y','rawPrediction','probability','prediction'])\n",
    "print(f'Roc-auc : {roc_eval.evaluate(eval_data)}')"
   ]
  }
 ],
 "metadata": {
  "application/vnd.databricks.v1+notebook": {
   "computePreferences": null,
   "dashboards": [],
   "environmentMetadata": {
    "base_environment": "",
    "client": "1"
   },
   "language": "python",
   "notebookMetadata": {
    "pythonIndentUnit": 4
   },
   "notebookName": "SubscribeTermDeposit",
   "widgets": {}
  }
 },
 "nbformat": 4,
 "nbformat_minor": 0
}
