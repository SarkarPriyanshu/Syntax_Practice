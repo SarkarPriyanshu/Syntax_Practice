{
 "cells": [
  {
   "cell_type": "code",
   "execution_count": 0,
   "metadata": {
    "application/vnd.databricks.v1+cell": {
     "cellMetadata": {
      "byteLimit": 2048000,
      "rowLimit": 10000
     },
     "inputWidgets": {},
     "nuid": "78221c1b-d5a4-49c9-9185-9a5cdb3c5636",
     "showTitle": false,
     "tableResultSettingsMap": {},
     "title": ""
    }
   },
   "outputs": [],
   "source": [
    "from pyspark.sql import SparkSession"
   ]
  },
  {
   "cell_type": "code",
   "execution_count": 0,
   "metadata": {
    "application/vnd.databricks.v1+cell": {
     "cellMetadata": {
      "byteLimit": 2048000,
      "rowLimit": 10000
     },
     "inputWidgets": {},
     "nuid": "331f7e26-3c5f-499f-9a49-9a8a6c96978d",
     "showTitle": false,
     "tableResultSettingsMap": {},
     "title": ""
    }
   },
   "outputs": [],
   "source": [
    "spark = SparkSession.builder.appName('Co2').getOrCreate()"
   ]
  },
  {
   "cell_type": "code",
   "execution_count": 0,
   "metadata": {
    "application/vnd.databricks.v1+cell": {
     "cellMetadata": {
      "byteLimit": 2048000,
      "rowLimit": 10000
     },
     "inputWidgets": {},
     "nuid": "06b57f55-3c01-4cda-aa74-cf2e1153c899",
     "showTitle": false,
     "tableResultSettingsMap": {},
     "title": ""
    }
   },
   "outputs": [],
   "source": [
    "df = spark.read.csv('dbfs:/FileStore/tables/FuelConsumption.csv',inferSchema=True,header=True)"
   ]
  },
  {
   "cell_type": "code",
   "execution_count": 0,
   "metadata": {
    "application/vnd.databricks.v1+cell": {
     "cellMetadata": {
      "byteLimit": 2048000,
      "rowLimit": 10000
     },
     "inputWidgets": {},
     "nuid": "a623cda6-3793-4104-a034-b22f82289469",
     "showTitle": false,
     "tableResultSettingsMap": {},
     "title": ""
    }
   },
   "outputs": [
    {
     "output_type": "stream",
     "name": "stdout",
     "output_type": "stream",
     "text": [
      "+---------+-----+----------+------------+----------+---------+------------+--------+--------------------+-------------------+--------------------+------------------------+--------------+----+--------------+----+----+----+----+----+----+----+----+----+\n|MODELYEAR| MAKE|     MODEL|VEHICLECLASS|ENGINESIZE|CYLINDERS|TRANSMISSION|FUELTYPE|FUELCONSUMPTION_CITY|FUELCONSUMPTION_HWY|FUELCONSUMPTION_COMB|FUELCONSUMPTION_COMB_MPG|CO2EMISSIONS12|_c13|CO2EMISSIONS14|_c15|_c16|_c17|_c18|_c19|_c20|_c21|_c22|_c23|\n+---------+-----+----------+------------+----------+---------+------------+--------+--------------------+-------------------+--------------------+------------------------+--------------+----+--------------+----+----+----+----+----+----+----+----+----+\n|     2014|ACURA|       ILX|     COMPACT|       2.0|        4|         AS5|       Z|                 9.9|                6.7|                 8.5|                      33|           196|null|          null|null|null|null|null|null|null|null|null|null|\n|     2014|ACURA|       ILX|     COMPACT|       2.4|        4|          M6|       Z|                11.2|                7.7|                 9.6|                      29|           221|null|          null|null|null|null|null|null|null|null|null|null|\n|     2014|ACURA|ILX HYBRID|     COMPACT|       1.5|        4|         AV7|       Z|                 6.0|                5.8|                 5.9|                      48|           136|null|          null|null|null|null|null|null|null|null|null|null|\n|     2014|ACURA|   MDX 4WD| SUV - SMALL|       3.5|        6|         AS6|       Z|                12.7|                9.1|                11.1|                      25|           255|null|          null|null|null|null|null|null|null|null|null|null|\n|     2014|ACURA|   RDX AWD| SUV - SMALL|       3.5|        6|         AS6|       Z|                12.1|                8.7|                10.6|                      27|           244|null|          null|null|null|null|null|null|null|null|null|null|\n+---------+-----+----------+------------+----------+---------+------------+--------+--------------------+-------------------+--------------------+------------------------+--------------+----+--------------+----+----+----+----+----+----+----+----+----+\nonly showing top 5 rows\n\n"
     ]
    }
   ],
   "source": [
    "df.show(5)"
   ]
  },
  {
   "cell_type": "code",
   "execution_count": 0,
   "metadata": {
    "application/vnd.databricks.v1+cell": {
     "cellMetadata": {
      "byteLimit": 2048000,
      "rowLimit": 10000
     },
     "inputWidgets": {},
     "nuid": "0c2bee64-2475-46f7-bae0-5cc4b635e80f",
     "showTitle": false,
     "tableResultSettingsMap": {},
     "title": ""
    }
   },
   "outputs": [
    {
     "output_type": "stream",
     "name": "stdout",
     "output_type": "stream",
     "text": [
      "root\n |-- MODELYEAR: integer (nullable = true)\n |-- MAKE: string (nullable = true)\n |-- MODEL: string (nullable = true)\n |-- VEHICLECLASS: string (nullable = true)\n |-- ENGINESIZE: double (nullable = true)\n |-- CYLINDERS: integer (nullable = true)\n |-- TRANSMISSION: string (nullable = true)\n |-- FUELTYPE: string (nullable = true)\n |-- FUELCONSUMPTION_CITY: double (nullable = true)\n |-- FUELCONSUMPTION_HWY: double (nullable = true)\n |-- FUELCONSUMPTION_COMB: double (nullable = true)\n |-- FUELCONSUMPTION_COMB_MPG: integer (nullable = true)\n |-- CO2EMISSIONS12: integer (nullable = true)\n |-- _c13: string (nullable = true)\n |-- CO2EMISSIONS14: string (nullable = true)\n |-- _c15: double (nullable = true)\n |-- _c16: string (nullable = true)\n |-- _c17: string (nullable = true)\n |-- _c18: string (nullable = true)\n |-- _c19: string (nullable = true)\n |-- _c20: string (nullable = true)\n |-- _c21: string (nullable = true)\n |-- _c22: string (nullable = true)\n |-- _c23: string (nullable = true)\n\n"
     ]
    }
   ],
   "source": [
    "df.printSchema()"
   ]
  },
  {
   "cell_type": "code",
   "execution_count": 0,
   "metadata": {
    "application/vnd.databricks.v1+cell": {
     "cellMetadata": {
      "byteLimit": 2048000,
      "rowLimit": 10000
     },
     "inputWidgets": {},
     "nuid": "51233222-0f48-4d5f-bf39-7e90a9d9ac77",
     "showTitle": false,
     "tableResultSettingsMap": {},
     "title": ""
    }
   },
   "outputs": [
    {
     "output_type": "stream",
     "name": "stdout",
     "output_type": "stream",
     "text": [
      "Out[9]: ['MODELYEAR',\n 'MAKE',\n 'MODEL',\n 'VEHICLECLASS',\n 'ENGINESIZE',\n 'CYLINDERS',\n 'TRANSMISSION',\n 'FUELTYPE',\n 'FUELCONSUMPTION_CITY',\n 'FUELCONSUMPTION_HWY',\n 'FUELCONSUMPTION_COMB',\n 'FUELCONSUMPTION_COMB_MPG',\n 'CO2EMISSIONS12',\n '_c13',\n 'CO2EMISSIONS14',\n '_c15',\n '_c16',\n '_c17',\n '_c18',\n '_c19',\n '_c20',\n '_c21',\n '_c22',\n '_c23']"
     ]
    }
   ],
   "source": [
    "df.columns"
   ]
  },
  {
   "cell_type": "code",
   "execution_count": 0,
   "metadata": {
    "application/vnd.databricks.v1+cell": {
     "cellMetadata": {
      "byteLimit": 2048000,
      "rowLimit": 10000
     },
     "inputWidgets": {},
     "nuid": "e77fe8e5-c130-4ed6-bf9e-1bd9cb330007",
     "showTitle": false,
     "tableResultSettingsMap": {},
     "title": ""
    }
   },
   "outputs": [
    {
     "output_type": "stream",
     "name": "stdout",
     "output_type": "stream",
     "text": [
      "+--------------+\n|CO2EMISSIONS14|\n+--------------+\n|   0.243761352|\n|          null|\n|          Mean|\n|           300|\n|          Skew|\n|           STD|\n|   0.755123306|\n|        Median|\n|   449.9208237|\n|      Variance|\n|          Mode|\n|   0.998884659|\n+--------------+\n\n"
     ]
    }
   ],
   "source": [
    "df.select('CO2EMISSIONS14').distinct().show()"
   ]
  },
  {
   "cell_type": "code",
   "execution_count": 0,
   "metadata": {
    "application/vnd.databricks.v1+cell": {
     "cellMetadata": {
      "byteLimit": 2048000,
      "rowLimit": 10000
     },
     "inputWidgets": {},
     "nuid": "c37f44cf-925c-417c-a5a1-7bfd5a963362",
     "showTitle": false,
     "tableResultSettingsMap": {},
     "title": ""
    }
   },
   "outputs": [],
   "source": [
    "Selected_Features = [ 'MODELYEAR','ENGINESIZE','CYLINDERS','FUELTYPE','FUELCONSUMPTION_CITY','FUELCONSUMPTION_HWY',\n",
    " 'FUELCONSUMPTION_COMB','FUELCONSUMPTION_COMB_MPG','CO2EMISSIONS12']"
   ]
  },
  {
   "cell_type": "code",
   "execution_count": 0,
   "metadata": {
    "application/vnd.databricks.v1+cell": {
     "cellMetadata": {
      "byteLimit": 2048000,
      "rowLimit": 10000
     },
     "inputWidgets": {},
     "nuid": "654d4ead-8f6d-4ebd-8795-ad2111daaea7",
     "showTitle": false,
     "tableResultSettingsMap": {},
     "title": ""
    }
   },
   "outputs": [
    {
     "output_type": "stream",
     "name": "stdout",
     "output_type": "stream",
     "text": [
      "MODELYEAR 0\n\nENGINESIZE 0\n\nCYLINDERS 0\n\nFUELTYPE 0\n\nFUELCONSUMPTION_CITY 0\n\nFUELCONSUMPTION_HWY 0\n\nFUELCONSUMPTION_COMB 0\n\nFUELCONSUMPTION_COMB_MPG 0\n\nCO2EMISSIONS12 0\n\n"
     ]
    }
   ],
   "source": [
    "for feature in Selected_Features:\n",
    "    print(feature,df.where(df[feature].isNull()).count())\n",
    "    print()"
   ]
  },
  {
   "cell_type": "code",
   "execution_count": 0,
   "metadata": {
    "application/vnd.databricks.v1+cell": {
     "cellMetadata": {
      "byteLimit": 2048000,
      "rowLimit": 10000
     },
     "inputWidgets": {},
     "nuid": "5e411dc5-e9ee-4c48-96ff-33c30086a17f",
     "showTitle": false,
     "tableResultSettingsMap": {},
     "title": ""
    }
   },
   "outputs": [],
   "source": [
    "data = df.select(Selected_Features)"
   ]
  },
  {
   "cell_type": "code",
   "execution_count": 0,
   "metadata": {
    "application/vnd.databricks.v1+cell": {
     "cellMetadata": {
      "byteLimit": 2048000,
      "rowLimit": 10000
     },
     "inputWidgets": {},
     "nuid": "ba057f51-413c-4a14-bf11-d490950f00e6",
     "showTitle": false,
     "tableResultSettingsMap": {},
     "title": ""
    }
   },
   "outputs": [
    {
     "output_type": "stream",
     "name": "stdout",
     "output_type": "stream",
     "text": [
      "root\n |-- MODELYEAR: integer (nullable = true)\n |-- ENGINESIZE: double (nullable = true)\n |-- CYLINDERS: integer (nullable = true)\n |-- FUELTYPE: string (nullable = true)\n |-- FUELCONSUMPTION_CITY: double (nullable = true)\n |-- FUELCONSUMPTION_HWY: double (nullable = true)\n |-- FUELCONSUMPTION_COMB: double (nullable = true)\n |-- FUELCONSUMPTION_COMB_MPG: integer (nullable = true)\n |-- CO2EMISSIONS12: integer (nullable = true)\n\n"
     ]
    }
   ],
   "source": [
    "data.printSchema()"
   ]
  },
  {
   "cell_type": "code",
   "execution_count": 0,
   "metadata": {
    "application/vnd.databricks.v1+cell": {
     "cellMetadata": {
      "byteLimit": 2048000,
      "rowLimit": 10000
     },
     "inputWidgets": {},
     "nuid": "9ceae5ad-5faf-45b1-8ea6-2e9fdc0a8cfb",
     "showTitle": false,
     "tableResultSettingsMap": {},
     "title": ""
    }
   },
   "outputs": [],
   "source": [
    "data = spark.createDataFrame(pandas_Data)"
   ]
  },
  {
   "cell_type": "code",
   "execution_count": 0,
   "metadata": {
    "application/vnd.databricks.v1+cell": {
     "cellMetadata": {
      "byteLimit": 2048000,
      "rowLimit": 10000
     },
     "inputWidgets": {},
     "nuid": "b110ce5c-3235-4018-b147-9a4094f4c86f",
     "showTitle": false,
     "tableResultSettingsMap": {},
     "title": ""
    }
   },
   "outputs": [],
   "source": [
    "from pyspark.ml.linalg import Vector\n",
    "from pyspark.ml.feature import VectorAssembler\n",
    "from pyspark.sql.functions import col"
   ]
  },
  {
   "cell_type": "code",
   "execution_count": 0,
   "metadata": {
    "application/vnd.databricks.v1+cell": {
     "cellMetadata": {
      "byteLimit": 2048000,
      "rowLimit": 10000
     },
     "inputWidgets": {},
     "nuid": "16a4851c-5499-4f6a-a7ee-db5522a17941",
     "showTitle": false,
     "tableResultSettingsMap": {},
     "title": ""
    }
   },
   "outputs": [],
   "source": [
    "assembler = VectorAssembler(inputCols=['ENGINESIZE',\n",
    " 'CYLINDERS',\n",
    " 'FUELCONSUMPTION_CITY',\n",
    " 'FUELCONSUMPTION_HWY',\n",
    " 'FUELCONSUMPTION_COMB',\n",
    " 'FUELCONSUMPTION_COMB_MPG',\n",
    " 'FUELTYPE_E',\n",
    " 'FUELTYPE_X',\n",
    " 'FUELTYPE_Z'],outputCol='features')"
   ]
  },
  {
   "cell_type": "code",
   "execution_count": 0,
   "metadata": {
    "application/vnd.databricks.v1+cell": {
     "cellMetadata": {
      "byteLimit": 2048000,
      "rowLimit": 10000
     },
     "inputWidgets": {},
     "nuid": "cf3fccf7-f41e-4445-84a7-62e990709845",
     "showTitle": false,
     "tableResultSettingsMap": {},
     "title": ""
    }
   },
   "outputs": [],
   "source": [
    "output = assembler.transform(data)"
   ]
  },
  {
   "cell_type": "code",
   "execution_count": 0,
   "metadata": {
    "application/vnd.databricks.v1+cell": {
     "cellMetadata": {
      "byteLimit": 2048000,
      "rowLimit": 10000
     },
     "inputWidgets": {},
     "nuid": "1cb5e3b6-41f7-4199-a147-77742826611c",
     "showTitle": false,
     "tableResultSettingsMap": {},
     "title": ""
    }
   },
   "outputs": [],
   "source": [
    "train,test = output.select('features',col('CO2EMISSIONS12').alias('label')).randomSplit(weights=[0.7,0.3])"
   ]
  },
  {
   "cell_type": "code",
   "execution_count": 0,
   "metadata": {
    "application/vnd.databricks.v1+cell": {
     "cellMetadata": {
      "byteLimit": 2048000,
      "rowLimit": 10000
     },
     "inputWidgets": {},
     "nuid": "68f01493-596e-4121-90d6-0b0db12d16df",
     "showTitle": false,
     "tableResultSettingsMap": {},
     "title": ""
    }
   },
   "outputs": [],
   "source": [
    "from pyspark.ml.regression import LinearRegression"
   ]
  },
  {
   "cell_type": "code",
   "execution_count": 0,
   "metadata": {
    "application/vnd.databricks.v1+cell": {
     "cellMetadata": {
      "byteLimit": 2048000,
      "rowLimit": 10000
     },
     "inputWidgets": {},
     "nuid": "fa028ce2-1341-4533-94c0-302f91771ebd",
     "showTitle": false,
     "tableResultSettingsMap": {},
     "title": ""
    }
   },
   "outputs": [
    {
     "output_type": "stream",
     "name": "stdout",
     "output_type": "stream",
     "text": [
      "+--------------------+-----+\n|            features|label|\n+--------------------+-----+\n|[1.5,4.0,6.0,5.8,...|  136|\n|[2.0,4.0,7.6,5.5,...|  181|\n|[2.0,4.0,9.9,6.7,...|  196|\n|[2.0,4.0,9.9,7.4,...|  202|\n|[2.0,4.0,9.9,8.3,...|  212|\n+--------------------+-----+\nonly showing top 5 rows\n\n"
     ]
    }
   ],
   "source": [
    "train.show(5)"
   ]
  },
  {
   "cell_type": "code",
   "execution_count": 0,
   "metadata": {
    "application/vnd.databricks.v1+cell": {
     "cellMetadata": {
      "byteLimit": 2048000,
      "rowLimit": 10000
     },
     "inputWidgets": {},
     "nuid": "d6132348-b542-48fb-8024-6dcc68436ab6",
     "showTitle": false,
     "tableResultSettingsMap": {},
     "title": ""
    }
   },
   "outputs": [
    {
     "output_type": "stream",
     "name": "stdout",
     "output_type": "stream",
     "text": [
      "Coefficients: [0.5393658601606603,1.472076665871427,1.2871774673974758,0.9792321313982494,15.73814999179503,-1.3903867180691372,-142.9925665957087,-33.24602827863185,-34.02246050175956]\nIntercept: 116.01545389283972\n"
     ]
    }
   ],
   "source": [
    "lr = LinearRegression()\n",
    "\n",
    "# Fit the model\n",
    "lrModel = lr.fit(train)\n",
    "\n",
    "# Print the coefficients and intercept for linear regression\n",
    "print(\"Coefficients: %s\" % str(lrModel.coefficients))\n",
    "print(\"Intercept: %s\" % str(lrModel.intercept))"
   ]
  },
  {
   "cell_type": "code",
   "execution_count": 0,
   "metadata": {
    "application/vnd.databricks.v1+cell": {
     "cellMetadata": {
      "byteLimit": 2048000,
      "rowLimit": 10000
     },
     "inputWidgets": {},
     "nuid": "9723233a-ef5c-44fb-9168-d67a11ea2ea1",
     "showTitle": false,
     "tableResultSettingsMap": {},
     "title": ""
    }
   },
   "outputs": [
    {
     "output_type": "stream",
     "name": "stdout",
     "output_type": "stream",
     "text": [
      "Out[105]: 0.9928079150241511"
     ]
    }
   ],
   "source": [
    "lrModel.evaluate(train).r2"
   ]
  },
  {
   "cell_type": "code",
   "execution_count": 0,
   "metadata": {
    "application/vnd.databricks.v1+cell": {
     "cellMetadata": {
      "byteLimit": 2048000,
      "rowLimit": 10000
     },
     "inputWidgets": {},
     "nuid": "4af3d193-5292-40a8-bd3a-427d60bc5624",
     "showTitle": false,
     "tableResultSettingsMap": {},
     "title": ""
    }
   },
   "outputs": [
    {
     "output_type": "stream",
     "name": "stdout",
     "output_type": "stream",
     "text": [
      "Out[104]: 0.9923397000803653"
     ]
    }
   ],
   "source": [
    "lrModel.evaluate(test).r2"
   ]
  },
  {
   "cell_type": "code",
   "execution_count": 0,
   "metadata": {
    "application/vnd.databricks.v1+cell": {
     "cellMetadata": {
      "byteLimit": 2048000,
      "rowLimit": 10000
     },
     "inputWidgets": {},
     "nuid": "aa407a7a-937a-4bad-98e6-0b54e6ee4bfb",
     "showTitle": false,
     "tableResultSettingsMap": {},
     "title": ""
    }
   },
   "outputs": [
    {
     "output_type": "stream",
     "name": "stdout",
     "output_type": "stream",
     "text": [
      "+-------+-----------------+\n|summary|   CO2EMISSIONS12|\n+-------+-----------------+\n|  count|             1067|\n|   mean|256.2286785379569|\n| stddev|63.37230444279997|\n|    min|              108|\n|    max|              488|\n+-------+-----------------+\n\n"
     ]
    }
   ],
   "source": [
    "df.select('CO2EMISSIONS12').describe().show()"
   ]
  },
  {
   "cell_type": "code",
   "execution_count": 0,
   "metadata": {
    "application/vnd.databricks.v1+cell": {
     "cellMetadata": {
      "byteLimit": 2048000,
      "rowLimit": 10000
     },
     "inputWidgets": {},
     "nuid": "613a6fe4-a3f1-4fa7-b726-827ecf1e1b5f",
     "showTitle": false,
     "tableResultSettingsMap": {},
     "title": ""
    }
   },
   "outputs": [
    {
     "output_type": "stream",
     "name": "stdout",
     "output_type": "stream",
     "text": [
      "Out[108]: (5.245710500807938, 5.832233797076175)"
     ]
    }
   ],
   "source": [
    "lrModel.evaluate(train).rootMeanSquaredError,lrModel.evaluate(test).rootMeanSquaredError"
   ]
  }
 ],
 "metadata": {
  "application/vnd.databricks.v1+notebook": {
   "computePreferences": null,
   "dashboards": [],
   "environmentMetadata": {
    "base_environment": "",
    "client": "1"
   },
   "language": "python",
   "notebookMetadata": {
    "pythonIndentUnit": 4
   },
   "notebookName": "Co2Data 2024-12-31 20:11:17",
   "widgets": {}
  }
 },
 "nbformat": 4,
 "nbformat_minor": 0
}
