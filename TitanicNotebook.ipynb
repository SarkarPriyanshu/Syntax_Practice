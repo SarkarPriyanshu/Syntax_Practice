{
 "cells": [
  {
   "cell_type": "code",
   "execution_count": 0,
   "metadata": {
    "application/vnd.databricks.v1+cell": {
     "cellMetadata": {
      "byteLimit": 2048000,
      "rowLimit": 10000
     },
     "inputWidgets": {},
     "nuid": "ff35aac5-b614-4c62-9c23-5e29cf4b4c32",
     "showTitle": false,
     "tableResultSettingsMap": {},
     "title": ""
    }
   },
   "outputs": [],
   "source": [
    "from pyspark.sql import SparkSession\n",
    "from pyspark.sql import functions as F\n",
    "from pyspark.sql.types import StructField,StructType,StringType,DoubleType,IntegerType\n",
    "from pyspark.ml.feature import StringIndexer, VectorAssembler, Imputer, MinMaxScaler, OneHotEncoder\n",
    "from pyspark.ml.classification import LogisticRegression, RandomForestClassifier, DecisionTreeClassifier, GBTClassifier\n",
    "from pyspark.ml import Pipeline\n",
    "from pyspark.ml.evaluation import BinaryClassificationEvaluator\n",
    "from pyspark.ml.tuning import CrossValidator, ParamGridBuilder"
   ]
  },
  {
   "cell_type": "code",
   "execution_count": 0,
   "metadata": {
    "application/vnd.databricks.v1+cell": {
     "cellMetadata": {
      "byteLimit": 2048000,
      "rowLimit": 10000
     },
     "inputWidgets": {},
     "nuid": "3fb4cd31-4e0f-4c92-a69b-d3bcd60a6116",
     "showTitle": false,
     "tableResultSettingsMap": {},
     "title": ""
    }
   },
   "outputs": [],
   "source": [
    "spark = SparkSession.Builder().appName('titanic').getOrCreate()"
   ]
  },
  {
   "cell_type": "code",
   "execution_count": 0,
   "metadata": {
    "application/vnd.databricks.v1+cell": {
     "cellMetadata": {
      "byteLimit": 2048000,
      "rowLimit": 10000
     },
     "inputWidgets": {},
     "nuid": "c9193db4-40e2-4e3d-a2bc-789bdd01db49",
     "showTitle": false,
     "tableResultSettingsMap": {},
     "title": ""
    }
   },
   "outputs": [],
   "source": [
    "df = spark.read.csv('dbfs:/FileStore/tables/titanic.csv', header=True, inferSchema=True)"
   ]
  },
  {
   "cell_type": "code",
   "execution_count": 0,
   "metadata": {
    "application/vnd.databricks.v1+cell": {
     "cellMetadata": {
      "byteLimit": 2048000,
      "rowLimit": 10000
     },
     "inputWidgets": {},
     "nuid": "dd5342ac-b5d9-4d1e-a1b2-610a7400ad4f",
     "showTitle": false,
     "tableResultSettingsMap": {},
     "title": ""
    }
   },
   "outputs": [],
   "source": [
    "df = df.withColumn(\"alone_cast\", df[\"alone\"].cast(StringType()))\n",
    "df = df.withColumn(\"adult_male_cast\", df[\"adult_male\"].cast(StringType()))"
   ]
  },
  {
   "cell_type": "code",
   "execution_count": 0,
   "metadata": {
    "application/vnd.databricks.v1+cell": {
     "cellMetadata": {
      "byteLimit": 2048000,
      "rowLimit": 10000
     },
     "inputWidgets": {},
     "nuid": "3de33174-7dd7-4e0c-b183-f6305b1613ec",
     "showTitle": false,
     "tableResultSettingsMap": {},
     "title": ""
    }
   },
   "outputs": [
    {
     "output_type": "stream",
     "name": "stdout",
     "output_type": "stream",
     "text": [
      "+--------+------+------+----+-----+-----+-------+--------+-----+-----+----------+----+-----------+-----+-----+----------+---------------+\n|survived|pclass|   sex| age|sibsp|parch|   fare|embarked|class|  who|adult_male|deck|embark_town|alive|alone|alone_cast|adult_male_cast|\n+--------+------+------+----+-----+-----+-------+--------+-----+-----+----------+----+-----------+-----+-----+----------+---------------+\n|       0|     3|  male|22.0|    1|    0|   7.25|       S|Third|  man|      true|null|Southampton|   no|false|     false|           true|\n|       1|     1|female|38.0|    1|    0|71.2833|       C|First|woman|     false|   C|  Cherbourg|  yes|false|     false|          false|\n|       1|     3|female|26.0|    0|    0|  7.925|       S|Third|woman|     false|null|Southampton|  yes| true|      true|          false|\n|       1|     1|female|35.0|    1|    0|   53.1|       S|First|woman|     false|   C|Southampton|  yes|false|     false|          false|\n|       0|     3|  male|35.0|    0|    0|   8.05|       S|Third|  man|      true|null|Southampton|   no| true|      true|           true|\n+--------+------+------+----+-----+-----+-------+--------+-----+-----+----------+----+-----------+-----+-----+----------+---------------+\nonly showing top 5 rows\n\n"
     ]
    }
   ],
   "source": [
    "df.show(5)"
   ]
  },
  {
   "cell_type": "code",
   "execution_count": 0,
   "metadata": {
    "application/vnd.databricks.v1+cell": {
     "cellMetadata": {
      "byteLimit": 2048000,
      "rowLimit": 10000
     },
     "inputWidgets": {},
     "nuid": "7321cf78-bf82-4371-8050-f79046503d76",
     "showTitle": false,
     "tableResultSettingsMap": {},
     "title": ""
    }
   },
   "outputs": [
    {
     "output_type": "stream",
     "name": "stdout",
     "output_type": "stream",
     "text": [
      "root\n |-- survived: integer (nullable = true)\n |-- pclass: integer (nullable = true)\n |-- sex: string (nullable = true)\n |-- age: double (nullable = true)\n |-- sibsp: integer (nullable = true)\n |-- parch: integer (nullable = true)\n |-- fare: double (nullable = true)\n |-- embarked: string (nullable = true)\n |-- class: string (nullable = true)\n |-- who: string (nullable = true)\n |-- adult_male: boolean (nullable = true)\n |-- deck: string (nullable = true)\n |-- embark_town: string (nullable = true)\n |-- alive: string (nullable = true)\n |-- alone: boolean (nullable = true)\n |-- alone_cast: string (nullable = true)\n |-- adult_male_cast: string (nullable = true)\n\n"
     ]
    }
   ],
   "source": [
    "df.printSchema()"
   ]
  },
  {
   "cell_type": "code",
   "execution_count": 0,
   "metadata": {
    "application/vnd.databricks.v1+cell": {
     "cellMetadata": {
      "byteLimit": 2048000,
      "rowLimit": 10000
     },
     "inputWidgets": {},
     "nuid": "944de841-b84b-4a85-af75-2ee63a5293e2",
     "showTitle": false,
     "tableResultSettingsMap": {},
     "title": ""
    }
   },
   "outputs": [
    {
     "output_type": "stream",
     "name": "stdout",
     "output_type": "stream",
     "text": [
      "survived 0\n\npclass 0\n\nsex 0\n\nage 177\n\nsibsp 0\n\nparch 0\n\nfare 0\n\nembarked 2\n\nclass 0\n\nwho 0\n\nadult_male 0\n\ndeck 688\n\nembark_town 2\n\nalive 0\n\nalone 0\n\nalone_cast 0\n\nadult_male_cast 0\n\n"
     ]
    }
   ],
   "source": [
    "for feature in df.columns:\n",
    "    print(feature,df.where(df[feature].isNull()).count())\n",
    "    print()"
   ]
  },
  {
   "cell_type": "code",
   "execution_count": 0,
   "metadata": {
    "application/vnd.databricks.v1+cell": {
     "cellMetadata": {
      "byteLimit": 2048000,
      "rowLimit": 10000
     },
     "inputWidgets": {},
     "nuid": "6b61a152-bbfd-449c-aa53-2cbf1b510c6f",
     "showTitle": false,
     "tableResultSettingsMap": {},
     "title": ""
    }
   },
   "outputs": [
    {
     "output_type": "stream",
     "name": "stdout",
     "output_type": "stream",
     "text": [
      "Out[8]: 77.21661054994388"
     ]
    }
   ],
   "source": [
    "df.where(df['deck'].isNull()).count()/ df.count() * 100"
   ]
  },
  {
   "cell_type": "code",
   "execution_count": 0,
   "metadata": {
    "application/vnd.databricks.v1+cell": {
     "cellMetadata": {
      "byteLimit": 2048000,
      "rowLimit": 10000
     },
     "inputWidgets": {},
     "nuid": "d0238a66-3999-474b-9837-3a46207e38c8",
     "showTitle": false,
     "tableResultSettingsMap": {},
     "title": ""
    }
   },
   "outputs": [
    {
     "output_type": "stream",
     "name": "stdout",
     "output_type": "stream",
     "text": [
      "+--------+------+------+----+-----+-----+-------+--------+-----+-----+----------+----+-----------+-----+-----+----------+---------------+\n|survived|pclass|   sex| age|sibsp|parch|   fare|embarked|class|  who|adult_male|deck|embark_town|alive|alone|alone_cast|adult_male_cast|\n+--------+------+------+----+-----+-----+-------+--------+-----+-----+----------+----+-----------+-----+-----+----------+---------------+\n|       0|     3|  male|22.0|    1|    0|   7.25|       S|Third|  man|      true|null|Southampton|   no|false|     false|           true|\n|       1|     1|female|38.0|    1|    0|71.2833|       C|First|woman|     false|   C|  Cherbourg|  yes|false|     false|          false|\n|       1|     3|female|26.0|    0|    0|  7.925|       S|Third|woman|     false|null|Southampton|  yes| true|      true|          false|\n|       1|     1|female|35.0|    1|    0|   53.1|       S|First|woman|     false|   C|Southampton|  yes|false|     false|          false|\n|       0|     3|  male|35.0|    0|    0|   8.05|       S|Third|  man|      true|null|Southampton|   no| true|      true|           true|\n+--------+------+------+----+-----+-----+-------+--------+-----+-----+----------+----+-----------+-----+-----+----------+---------------+\nonly showing top 5 rows\n\n"
     ]
    }
   ],
   "source": [
    "df.show(5)"
   ]
  },
  {
   "cell_type": "code",
   "execution_count": 0,
   "metadata": {
    "application/vnd.databricks.v1+cell": {
     "cellMetadata": {
      "byteLimit": 2048000,
      "rowLimit": 10000
     },
     "inputWidgets": {},
     "nuid": "da6db39c-7dc4-41be-8921-fc53643aea01",
     "showTitle": false,
     "tableResultSettingsMap": {},
     "title": ""
    }
   },
   "outputs": [
    {
     "output_type": "stream",
     "name": "stdout",
     "output_type": "stream",
     "text": [
      "+------+\n| class|\n+------+\n| First|\n|Second|\n| Third|\n+------+\n\n"
     ]
    }
   ],
   "source": [
    "df.select('class').distinct().show()"
   ]
  },
  {
   "cell_type": "code",
   "execution_count": 0,
   "metadata": {
    "application/vnd.databricks.v1+cell": {
     "cellMetadata": {
      "byteLimit": 2048000,
      "rowLimit": 10000
     },
     "inputWidgets": {},
     "nuid": "14e11c08-8d28-492a-a3b5-a65c57bacb7f",
     "showTitle": false,
     "tableResultSettingsMap": {},
     "title": ""
    }
   },
   "outputs": [],
   "source": [
    "class_dict = {'First':1,'Second':2,'Third':3}\n",
    "ordinal_encoder = F.udf(lambda value: class_dict[value])\n",
    "df = df.withColumn('class_encod',ordinal_encoder(F.col('class')))"
   ]
  },
  {
   "cell_type": "code",
   "execution_count": 0,
   "metadata": {
    "application/vnd.databricks.v1+cell": {
     "cellMetadata": {
      "byteLimit": 2048000,
      "rowLimit": 10000
     },
     "inputWidgets": {},
     "nuid": "538ecde0-b484-41e1-8ece-2232c57644d2",
     "showTitle": false,
     "tableResultSettingsMap": {},
     "title": ""
    }
   },
   "outputs": [],
   "source": [
    "features_to_drop = ['who','deck','embark_town','alive','class','embarked','alone','adult_male']\n",
    "df = df.drop(*features_to_drop)"
   ]
  },
  {
   "cell_type": "code",
   "execution_count": 0,
   "metadata": {
    "application/vnd.databricks.v1+cell": {
     "cellMetadata": {
      "byteLimit": 2048000,
      "rowLimit": 10000
     },
     "inputWidgets": {},
     "nuid": "6101ecfa-fa12-49fc-942c-8d80c7069605",
     "showTitle": false,
     "tableResultSettingsMap": {},
     "title": ""
    }
   },
   "outputs": [
    {
     "output_type": "stream",
     "name": "stdout",
     "output_type": "stream",
     "text": [
      "+--------+------+------+----+-----+-----+-------+----------+---------------+-----------+\n|survived|pclass|   sex| age|sibsp|parch|   fare|alone_cast|adult_male_cast|class_encod|\n+--------+------+------+----+-----+-----+-------+----------+---------------+-----------+\n|       0|     3|  male|22.0|    1|    0|   7.25|     false|           true|          3|\n|       1|     1|female|38.0|    1|    0|71.2833|     false|          false|          1|\n|       1|     3|female|26.0|    0|    0|  7.925|      true|          false|          3|\n|       1|     1|female|35.0|    1|    0|   53.1|     false|          false|          1|\n|       0|     3|  male|35.0|    0|    0|   8.05|      true|           true|          3|\n+--------+------+------+----+-----+-----+-------+----------+---------------+-----------+\nonly showing top 5 rows\n\n"
     ]
    }
   ],
   "source": [
    "df.show(5)"
   ]
  },
  {
   "cell_type": "code",
   "execution_count": 0,
   "metadata": {
    "application/vnd.databricks.v1+cell": {
     "cellMetadata": {
      "byteLimit": 2048000,
      "rowLimit": 10000
     },
     "inputWidgets": {},
     "nuid": "93f2fee5-32ea-4a98-9e4d-e16f3615bf76",
     "showTitle": false,
     "tableResultSettingsMap": {},
     "title": ""
    }
   },
   "outputs": [
    {
     "output_type": "stream",
     "name": "stdout",
     "output_type": "stream",
     "text": [
      "+-------+-------------------+------------------+------+------------------+------------------+-------------------+-----------------+----------+---------------+------------------+\n|summary|           survived|            pclass|   sex|               age|             sibsp|              parch|             fare|alone_cast|adult_male_cast|       class_encod|\n+-------+-------------------+------------------+------+------------------+------------------+-------------------+-----------------+----------+---------------+------------------+\n|  count|                891|               891|   891|               714|               891|                891|              891|       891|            891|               891|\n|   mean| 0.3838383838383838| 2.308641975308642|  null| 29.69911764705882|0.5230078563411896|0.38159371492704824| 32.2042079685746|      null|           null| 2.308641975308642|\n| stddev|0.48659245426485753|0.8360712409770491|  null|14.526497332334035|1.1027434322934315| 0.8060572211299488|49.69342859718089|      null|           null|0.8360712409770491|\n|    min|                  0|                 1|female|              0.42|                 0|                  0|              0.0|     false|          false|                 1|\n|    max|                  1|                 3|  male|              80.0|                 8|                  6|         512.3292|      true|           true|                 3|\n+-------+-------------------+------------------+------+------------------+------------------+-------------------+-----------------+----------+---------------+------------------+\n\n"
     ]
    }
   ],
   "source": [
    "df.describe().show()"
   ]
  },
  {
   "cell_type": "code",
   "execution_count": 0,
   "metadata": {
    "application/vnd.databricks.v1+cell": {
     "cellMetadata": {
      "byteLimit": 2048000,
      "rowLimit": 10000
     },
     "inputWidgets": {},
     "nuid": "bee9e32f-0e04-4282-a9e0-85477f2f8b2f",
     "showTitle": false,
     "tableResultSettingsMap": {},
     "title": ""
    }
   },
   "outputs": [],
   "source": [
    "# 'sex','alone','adult_male','embarked'\n",
    "sex_indexer = StringIndexer(inputCol='sex',outputCol='sex_index')\n",
    "sex_encoder = OneHotEncoder(inputCol='sex_index',outputCol='sex_vec')\n",
    "\n",
    "alone_indexer = StringIndexer(inputCol='alone_cast',outputCol='alone_index')\n",
    "alone_encoder = OneHotEncoder(inputCol='alone_index',outputCol='alone_vec')\n",
    "\n",
    "adult_male_indexer = StringIndexer(inputCol='adult_male_cast',outputCol='adult_male_index')\n",
    "adult_male_encoder = OneHotEncoder(inputCol='adult_male_index',outputCol='adult_male_vec')"
   ]
  },
  {
   "cell_type": "code",
   "execution_count": 0,
   "metadata": {
    "application/vnd.databricks.v1+cell": {
     "cellMetadata": {
      "byteLimit": 2048000,
      "rowLimit": 10000
     },
     "inputWidgets": {},
     "nuid": "0c7dff47-0fd4-4656-b2af-ff5b62004059",
     "showTitle": false,
     "tableResultSettingsMap": {},
     "title": ""
    }
   },
   "outputs": [
    {
     "output_type": "stream",
     "name": "stdout",
     "output_type": "stream",
     "text": [
      "+--------+------+------+----+-----+-----+-------+----------+---------------+-----------+---------+-------------+\n|survived|pclass|   sex| age|sibsp|parch|   fare|alone_cast|adult_male_cast|class_encod|sex_index|      sex_vec|\n+--------+------+------+----+-----+-----+-------+----------+---------------+-----------+---------+-------------+\n|       0|     3|  male|22.0|    1|    0|   7.25|     false|           true|          3|      0.0|(1,[0],[1.0])|\n|       1|     1|female|38.0|    1|    0|71.2833|     false|          false|          1|      1.0|    (1,[],[])|\n|       1|     3|female|26.0|    0|    0|  7.925|      true|          false|          3|      1.0|    (1,[],[])|\n|       1|     1|female|35.0|    1|    0|   53.1|     false|          false|          1|      1.0|    (1,[],[])|\n|       0|     3|  male|35.0|    0|    0|   8.05|      true|           true|          3|      0.0|(1,[0],[1.0])|\n+--------+------+------+----+-----+-----+-------+----------+---------------+-----------+---------+-------------+\nonly showing top 5 rows\n\n"
     ]
    }
   ],
   "source": [
    "data = sex_indexer.fit(df).transform(df)\n",
    "sex_encoder.fit(data).transform(data).show(5)\n",
    "del data"
   ]
  },
  {
   "cell_type": "code",
   "execution_count": 0,
   "metadata": {
    "application/vnd.databricks.v1+cell": {
     "cellMetadata": {
      "byteLimit": 2048000,
      "rowLimit": 10000
     },
     "inputWidgets": {},
     "nuid": "fb8ebba7-31e7-4e7c-b67b-a1a988bcd0ae",
     "showTitle": false,
     "tableResultSettingsMap": {},
     "title": ""
    }
   },
   "outputs": [],
   "source": [
    "age_imp = Imputer(inputCol='age', outputCol='age_imp').setStrategy('median')\n",
    "\n",
    "assembler = VectorAssembler(inputCols=[\n",
    "    'pclass',\n",
    "    'sex_vec',\n",
    "    'age_imp',\n",
    "    'sibsp',\n",
    "    'parch',\n",
    "    'fare',\n",
    "    'adult_male_vec',\n",
    "    'alone_vec',\n",
    "],outputCol='features')\n",
    "\n",
    "scaler = MinMaxScaler(inputCol=\"features\", outputCol=\"scaled_features\")\n",
    "\n",
    "log_reg_titanic = LogisticRegression(featuresCol='scaled_features',labelCol='survived')"
   ]
  },
  {
   "cell_type": "code",
   "execution_count": 0,
   "metadata": {
    "application/vnd.databricks.v1+cell": {
     "cellMetadata": {
      "byteLimit": 2048000,
      "rowLimit": 10000
     },
     "inputWidgets": {},
     "nuid": "389bb717-53be-4c25-aeba-147293ae2d9d",
     "showTitle": false,
     "tableResultSettingsMap": {},
     "title": ""
    }
   },
   "outputs": [],
   "source": [
    "Log_pipe = Pipeline(stages=[age_imp,\n",
    "                 sex_indexer,\n",
    "                 sex_encoder,\n",
    "                 alone_indexer,\n",
    "                 alone_encoder,\n",
    "                 adult_male_indexer,\n",
    "                 adult_male_encoder,\n",
    "                 assembler,\n",
    "                 scaler,\n",
    "                 log_reg_titanic\n",
    "                 ])"
   ]
  },
  {
   "cell_type": "code",
   "execution_count": 0,
   "metadata": {
    "application/vnd.databricks.v1+cell": {
     "cellMetadata": {
      "byteLimit": 2048000,
      "rowLimit": 10000
     },
     "inputWidgets": {},
     "nuid": "844a39be-2a18-430e-b7e0-6eb43b9421a5",
     "showTitle": false,
     "tableResultSettingsMap": {},
     "title": ""
    }
   },
   "outputs": [],
   "source": [
    "train, test = df.randomSplit([0.7,0.3])"
   ]
  },
  {
   "cell_type": "code",
   "execution_count": 0,
   "metadata": {
    "application/vnd.databricks.v1+cell": {
     "cellMetadata": {
      "byteLimit": 2048000,
      "rowLimit": 10000
     },
     "inputWidgets": {},
     "nuid": "b9ddeb41-8e85-4a71-8325-4c67ed6abeb8",
     "showTitle": false,
     "tableResultSettingsMap": {},
     "title": ""
    }
   },
   "outputs": [],
   "source": [
    "Log_model_pipe = Log_pipe.fit(train)"
   ]
  },
  {
   "cell_type": "code",
   "execution_count": 0,
   "metadata": {
    "application/vnd.databricks.v1+cell": {
     "cellMetadata": {
      "byteLimit": 2048000,
      "rowLimit": 10000
     },
     "inputWidgets": {},
     "nuid": "74aad6f0-5ce9-44b4-9699-7bdea248adbc",
     "showTitle": false,
     "tableResultSettingsMap": {},
     "title": ""
    }
   },
   "outputs": [],
   "source": [
    "train_results = Log_model_pipe.transform(train)\n",
    "test_results = Log_model_pipe.transform(test)"
   ]
  },
  {
   "cell_type": "code",
   "execution_count": 0,
   "metadata": {
    "application/vnd.databricks.v1+cell": {
     "cellMetadata": {
      "byteLimit": 2048000,
      "rowLimit": 10000
     },
     "inputWidgets": {},
     "nuid": "701e826d-51d1-4dad-8101-27862927a100",
     "showTitle": false,
     "tableResultSettingsMap": {},
     "title": ""
    }
   },
   "outputs": [
    {
     "output_type": "stream",
     "name": "stdout",
     "output_type": "stream",
     "text": [
      "Out[145]: 0.7987393633785062"
     ]
    }
   ],
   "source": [
    "my_eval = BinaryClassificationEvaluator(rawPredictionCol='prediction',\n",
    "                                       labelCol='survived')\n",
    "Train_AUC = my_eval.evaluate(train_results)\n",
    "Test_AUC = my_eval.evaluate(test_results)"
   ]
  },
  {
   "cell_type": "code",
   "execution_count": 0,
   "metadata": {
    "application/vnd.databricks.v1+cell": {
     "cellMetadata": {
      "byteLimit": 2048000,
      "rowLimit": 10000
     },
     "inputWidgets": {},
     "nuid": "61a84495-823b-45fb-a98f-445b950933d9",
     "showTitle": false,
     "tableResultSettingsMap": {},
     "title": ""
    }
   },
   "outputs": [
    {
     "output_type": "stream",
     "name": "stdout",
     "output_type": "stream",
     "text": [
      "Out[146]: (0.8096424104966402, 0.7987393633785062)"
     ]
    }
   ],
   "source": [
    "Train_AUC,Test_AUC"
   ]
  },
  {
   "cell_type": "code",
   "execution_count": 0,
   "metadata": {
    "application/vnd.databricks.v1+cell": {
     "cellMetadata": {
      "byteLimit": 2048000,
      "rowLimit": 10000
     },
     "inputWidgets": {},
     "nuid": "1550d33f-4309-4f4b-9b08-e5a0e2842c15",
     "showTitle": false,
     "tableResultSettingsMap": {},
     "title": ""
    }
   },
   "outputs": [
    {
     "output_type": "stream",
     "name": "stdout",
     "output_type": "stream",
     "text": [
      "Out[148]: (0.8272516268520678, 0.7919319256224393)"
     ]
    }
   ],
   "source": [
    "rfc = RandomForestClassifier(featuresCol='scaled_features',labelCol='survived')\n",
    "\n",
    "rfc_pipe = Pipeline(stages=[age_imp,\n",
    "                sex_indexer,\n",
    "                 sex_encoder,\n",
    "                 alone_indexer,\n",
    "                 alone_encoder,\n",
    "                 adult_male_indexer,\n",
    "                 adult_male_encoder,\n",
    "                 assembler,\n",
    "                 scaler,\n",
    "                 rfc\n",
    "                 ])\n",
    "\n",
    "rfc_model_pipe = rfc_pipe.fit(train)\n",
    "\n",
    "train_results = rfc_model_pipe.transform(train)\n",
    "test_results = rfc_model_pipe.transform(test)\n",
    "\n",
    "my_eval = BinaryClassificationEvaluator(rawPredictionCol='prediction',\n",
    "                                       labelCol='survived')\n",
    "Train_AUC = my_eval.evaluate(train_results)\n",
    "Test_AUC = my_eval.evaluate(test_results)\n",
    "\n",
    "Train_AUC,Test_AUC"
   ]
  },
  {
   "cell_type": "code",
   "execution_count": 0,
   "metadata": {
    "application/vnd.databricks.v1+cell": {
     "cellMetadata": {
      "byteLimit": 2048000,
      "rowLimit": 10000
     },
     "inputWidgets": {},
     "nuid": "29ae9fb7-57b1-43ec-8a91-f8ccf8841af3",
     "showTitle": false,
     "tableResultSettingsMap": {},
     "title": ""
    }
   },
   "outputs": [
    {
     "output_type": "stream",
     "name": "stdout",
     "output_type": "stream",
     "text": [
      "Out[150]: (0.8459577760349323, 0.7920264733690513)"
     ]
    }
   ],
   "source": [
    "dtc = DecisionTreeClassifier(featuresCol='scaled_features',labelCol='survived')\n",
    "\n",
    "dtc_pipe = Pipeline(stages=[age_imp,\n",
    "                sex_indexer,\n",
    "                 sex_encoder,\n",
    "                 alone_indexer,\n",
    "                 alone_encoder,\n",
    "                 adult_male_indexer,\n",
    "                 adult_male_encoder,\n",
    "                 assembler,\n",
    "                 scaler,\n",
    "                 dtc\n",
    "                 ])\n",
    "\n",
    "dtc_model_pipe = dtc_pipe.fit(train)\n",
    "\n",
    "train_results = dtc_model_pipe.transform(train)\n",
    "test_results = dtc_model_pipe.transform(test)\n",
    "\n",
    "my_eval = BinaryClassificationEvaluator(rawPredictionCol='prediction',\n",
    "                                       labelCol='survived')\n",
    "Train_AUC = my_eval.evaluate(train_results)\n",
    "Test_AUC = my_eval.evaluate(test_results)\n",
    "\n",
    "Train_AUC,Test_AUC"
   ]
  },
  {
   "cell_type": "code",
   "execution_count": 0,
   "metadata": {
    "application/vnd.databricks.v1+cell": {
     "cellMetadata": {
      "byteLimit": 2048000,
      "rowLimit": 10000
     },
     "inputWidgets": {},
     "nuid": "bfd607b3-3f43-41a9-b779-15b66c4da8b2",
     "showTitle": false,
     "tableResultSettingsMap": {},
     "title": ""
    }
   },
   "outputs": [
    {
     "output_type": "stream",
     "name": "stdout",
     "output_type": "stream",
     "text": [
      "Out[151]: (0.8928503296097675, 0.769429561928774)"
     ]
    }
   ],
   "source": [
    "gbtc = GBTClassifier(featuresCol='scaled_features',labelCol='survived')\n",
    "\n",
    "gbtc_pipe = Pipeline(stages=[age_imp,\n",
    "                sex_indexer,\n",
    "                 sex_encoder,\n",
    "                 alone_indexer,\n",
    "                 alone_encoder,\n",
    "                 adult_male_indexer,\n",
    "                 adult_male_encoder,\n",
    "                 assembler,\n",
    "                 scaler,\n",
    "                 gbtc\n",
    "                 ])\n",
    "\n",
    "gbtc_model_pipe = gbtc_pipe.fit(train)\n",
    "\n",
    "train_results = gbtc_model_pipe.transform(train)\n",
    "test_results = gbtc_model_pipe.transform(test)\n",
    "\n",
    "my_eval = BinaryClassificationEvaluator(rawPredictionCol='prediction',\n",
    "                                       labelCol='survived')\n",
    "Train_AUC = my_eval.evaluate(train_results)\n",
    "Test_AUC = my_eval.evaluate(test_results)\n",
    "\n",
    "Train_AUC,Test_AUC"
   ]
  },
  {
   "cell_type": "markdown",
   "metadata": {
    "application/vnd.databricks.v1+cell": {
     "cellMetadata": {},
     "inputWidgets": {},
     "nuid": "c2dfd18b-2e37-419a-a627-aeec6e5302b6",
     "showTitle": false,
     "tableResultSettingsMap": {},
     "title": ""
    }
   },
   "source": [
    "# Hyperparameter Tuning"
   ]
  },
  {
   "cell_type": "markdown",
   "metadata": {
    "application/vnd.databricks.v1+cell": {
     "cellMetadata": {},
     "inputWidgets": {},
     "nuid": "f6975cd5-a7a3-4847-a766-2b0567afbde8",
     "showTitle": false,
     "tableResultSettingsMap": {},
     "title": ""
    }
   },
   "source": [
    "## Logistic Regressor"
   ]
  },
  {
   "cell_type": "code",
   "execution_count": 0,
   "metadata": {
    "application/vnd.databricks.v1+cell": {
     "cellMetadata": {
      "byteLimit": 2048000,
      "rowLimit": 10000
     },
     "inputWidgets": {},
     "nuid": "ee16d56e-d62c-4c02-bd54-eb8cf841cafb",
     "showTitle": false,
     "tableResultSettingsMap": {},
     "title": ""
    }
   },
   "outputs": [],
   "source": [
    "params = ParamGridBuilder()\\\n",
    "    .addGrid(log_reg_titanic.regParam,[0.1,0.01,0.001])\\\n",
    "        .addGrid(log_reg_titanic.elasticNetParam,[0.1,0.01,0.001]).build()\n",
    "\n",
    "crossval = CrossValidator(estimator=Log_pipe, estimatorParamMaps=params, evaluator=BinaryClassificationEvaluator(rawPredictionCol='prediction',labelCol='survived'))        \n",
    "\n",
    "cvModel = crossval.fit(train)"
   ]
  },
  {
   "cell_type": "code",
   "execution_count": 0,
   "metadata": {
    "application/vnd.databricks.v1+cell": {
     "cellMetadata": {
      "byteLimit": 2048000,
      "rowLimit": 10000
     },
     "inputWidgets": {},
     "nuid": "ad84fdd9-30c3-4776-90e7-d2f51fcfd45d",
     "showTitle": false,
     "tableResultSettingsMap": {},
     "title": ""
    }
   },
   "outputs": [
    {
     "output_type": "stream",
     "name": "stdout",
     "output_type": "stream",
     "text": [
      "Out[60]: Param(parent='CrossValidatorModel_0a9eb3f4552f', name='estimatorParamMaps', doc='estimator param maps')"
     ]
    }
   ],
   "source": [
    "cvModel.estimatorParamMaps"
   ]
  },
  {
   "cell_type": "code",
   "execution_count": 0,
   "metadata": {
    "application/vnd.databricks.v1+cell": {
     "cellMetadata": {
      "byteLimit": 2048000,
      "rowLimit": 10000
     },
     "inputWidgets": {},
     "nuid": "b14797cd-2480-4509-a69e-be27e4944740",
     "showTitle": false,
     "tableResultSettingsMap": {},
     "title": ""
    }
   },
   "outputs": [
    {
     "output_type": "stream",
     "name": "stdout",
     "output_type": "stream",
     "text": [
      "Out[67]: (0.01, 0.1)"
     ]
    }
   ],
   "source": [
    "bestModel = cvModel.bestModel\n",
    "\n",
    "bestModel.stages[-1].getRegParam(),bestModel.stages[-1].getElasticNetParam()"
   ]
  },
  {
   "cell_type": "code",
   "execution_count": 0,
   "metadata": {
    "application/vnd.databricks.v1+cell": {
     "cellMetadata": {
      "byteLimit": 2048000,
      "rowLimit": 10000
     },
     "inputWidgets": {},
     "nuid": "33366bc7-d5d0-4457-bb25-90b11b04ca0e",
     "showTitle": false,
     "tableResultSettingsMap": {},
     "title": ""
    }
   },
   "outputs": [],
   "source": [
    "result = bestModel.transform(test)"
   ]
  },
  {
   "cell_type": "code",
   "execution_count": 0,
   "metadata": {
    "application/vnd.databricks.v1+cell": {
     "cellMetadata": {
      "byteLimit": 2048000,
      "rowLimit": 10000
     },
     "inputWidgets": {},
     "nuid": "e87a9681-70bd-4b36-9e2d-728c4281bcd3",
     "showTitle": false,
     "tableResultSettingsMap": {},
     "title": ""
    }
   },
   "outputs": [
    {
     "output_type": "stream",
     "name": "stdout",
     "output_type": "stream",
     "text": [
      "Out[71]: 0.7775250227479528"
     ]
    }
   ],
   "source": [
    "my_eval = BinaryClassificationEvaluator(rawPredictionCol='prediction',\n",
    "                                       labelCol='survived')\n",
    "my_eval.evaluate(result)"
   ]
  },
  {
   "cell_type": "markdown",
   "metadata": {
    "application/vnd.databricks.v1+cell": {
     "cellMetadata": {},
     "inputWidgets": {},
     "nuid": "530a8235-6822-41af-bde4-7a09d323b86b",
     "showTitle": false,
     "tableResultSettingsMap": {},
     "title": ""
    }
   },
   "source": [
    "## Random Forest"
   ]
  },
  {
   "cell_type": "code",
   "execution_count": 0,
   "metadata": {
    "application/vnd.databricks.v1+cell": {
     "cellMetadata": {
      "byteLimit": 2048000,
      "rowLimit": 10000
     },
     "inputWidgets": {},
     "nuid": "b628b21b-1b82-43fd-a81d-7526afa74db2",
     "showTitle": false,
     "tableResultSettingsMap": {},
     "title": ""
    }
   },
   "outputs": [],
   "source": [
    "rfc = RandomForestClassifier(featuresCol='scaled_features',labelCol='survived')\n",
    "\n",
    "rfc_pipe = Pipeline(stages=[age_imp,\n",
    "                sex_indexer,\n",
    "                 sex_encoder,\n",
    "                 alone_indexer,\n",
    "                 alone_encoder,\n",
    "                 adult_male_indexer,\n",
    "                 adult_male_encoder,\n",
    "                 assembler,\n",
    "                 scaler,\n",
    "                 rfc\n",
    "                 ])\n",
    "\n",
    "params = ParamGridBuilder()\\\n",
    "    .addGrid(rfc.maxDepth,[5,6,7,8])\\\n",
    "        .addGrid(rfc.numTrees,[30,50,70,100])\\\n",
    "            .addGrid(rfc.subsamplingRate,[0.20,0.30,0.50])\\\n",
    "                .addGrid(rfc.featureSubsetStrategy,['sqrt','log2'])\\\n",
    "                    .build()\n",
    "\n",
    "crossval = CrossValidator(estimator=rfc_pipe, estimatorParamMaps=params, evaluator=BinaryClassificationEvaluator(rawPredictionCol='prediction',labelCol='survived'))        \n",
    "\n",
    "cvModel = crossval.fit(train)"
   ]
  },
  {
   "cell_type": "code",
   "execution_count": 0,
   "metadata": {
    "application/vnd.databricks.v1+cell": {
     "cellMetadata": {
      "byteLimit": 2048000,
      "rowLimit": 10000
     },
     "inputWidgets": {},
     "nuid": "dc8c88bf-8180-4cc0-bb09-287047fd1b43",
     "showTitle": false,
     "tableResultSettingsMap": {},
     "title": ""
    }
   },
   "outputs": [
    {
     "output_type": "stream",
     "name": "stdout",
     "output_type": "stream",
     "text": [
      "MaxDepth : 7\n NumTrees : 100\n subsamplingRate : 0.5\n featureSubsetStrategy : sqrt\n"
     ]
    }
   ],
   "source": [
    "rdc_model = cvModel.bestModel\n",
    "\n",
    "model = rdc_model.stages[-1]\n",
    "\n",
    "print(f'MaxDepth : {model.getMaxDepth()}\\n',\n",
    "      f'NumTrees : {model.getNumTrees}\\n',\n",
    "      f'subsamplingRate : {model.getSubsamplingRate()}\\n',\n",
    "      f'featureSubsetStrategy : {model.getFeatureSubsetStrategy()}'\n",
    "      )"
   ]
  },
  {
   "cell_type": "code",
   "execution_count": 0,
   "metadata": {
    "application/vnd.databricks.v1+cell": {
     "cellMetadata": {
      "byteLimit": 2048000,
      "rowLimit": 10000
     },
     "inputWidgets": {},
     "nuid": "cb601f6e-24d9-4a7e-8aa4-6c213c47841f",
     "showTitle": false,
     "tableResultSettingsMap": {},
     "title": ""
    }
   },
   "outputs": [],
   "source": [
    "result = rdc_model.transform(test)"
   ]
  },
  {
   "cell_type": "code",
   "execution_count": 0,
   "metadata": {
    "application/vnd.databricks.v1+cell": {
     "cellMetadata": {
      "byteLimit": 2048000,
      "rowLimit": 10000
     },
     "inputWidgets": {},
     "nuid": "17d30541-7196-4ccd-864f-611fca401e7f",
     "showTitle": false,
     "tableResultSettingsMap": {},
     "title": ""
    }
   },
   "outputs": [
    {
     "output_type": "stream",
     "name": "stdout",
     "output_type": "stream",
     "text": [
      "Out[82]: 0.7648468304519261"
     ]
    }
   ],
   "source": [
    "my_eval = BinaryClassificationEvaluator(rawPredictionCol='prediction',\n",
    "                                       labelCol='survived')\n",
    "my_eval.evaluate(result)"
   ]
  }
 ],
 "metadata": {
  "application/vnd.databricks.v1+notebook": {
   "computePreferences": null,
   "dashboards": [],
   "environmentMetadata": {
    "base_environment": "",
    "client": "1"
   },
   "language": "python",
   "notebookMetadata": {
    "pythonIndentUnit": 4
   },
   "notebookName": "TitanicNotebook 2025-01-08",
   "widgets": {}
  }
 },
 "nbformat": 4,
 "nbformat_minor": 0
}
